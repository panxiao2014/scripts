{
  "nbformat": 4,
  "nbformat_minor": 0,
  "metadata": {
    "colab": {
      "name": "Exercise 2 - Answer.ipynb",
      "version": "0.3.2",
      "provenance": []
    },
    "kernelspec": {
      "name": "python3",
      "display_name": "Python 3"
    }
  },
  "cells": [
    {
      "metadata": {
        "colab_type": "code",
        "id": "22hBZbxx98IS",
        "colab": {
          "base_uri": "https://localhost:8080/",
          "height": 440
        },
        "outputId": "3c555df3-70c9-480a-eacf-87c8d5939fef"
      },
      "cell_type": "code",
      "source": [
        "import tensorflow as tf\n",
        "\n",
        "class myCallback(tf.keras.callbacks.Callback):\n",
        "  def on_epoch_end(self, epoch, logs={}):\n",
        "    if(logs.get('acc')>0.998):\n",
        "      print(\"\\nReached 99.8% accuracy so cancelling training!\")\n",
        "      self.model.stop_training = True\n",
        "\n",
        "callbacks = myCallback()\n",
        "mnist = tf.keras.datasets.mnist\n",
        "(training_images, training_labels), (test_images, test_labels) = mnist.load_data()\n",
        "training_images=training_images.reshape(60000, 28, 28, 1)\n",
        "training_images=training_images / 255.0\n",
        "test_images = test_images.reshape(10000, 28, 28, 1)\n",
        "test_images=test_images/255.0\n",
        "model = tf.keras.models.Sequential([\n",
        "  tf.keras.layers.Conv2D(32, (3,3), activation='relu', input_shape=(28, 28, 1)),\n",
        "  tf.keras.layers.MaxPooling2D(2, 2),\n",
        "  tf.keras.layers.Flatten(),\n",
        "  tf.keras.layers.Dense(128, activation='relu'),\n",
        "  tf.keras.layers.Dense(10, activation='softmax')\n",
        "])\n",
        "model.compile(optimizer='adam', loss='sparse_categorical_crossentropy', metrics=['accuracy'])\n",
        "model.fit(training_images, training_labels, epochs=10, callbacks=[callbacks])\n"
      ],
      "execution_count": 1,
      "outputs": [
        {
          "output_type": "stream",
          "text": [
            "Downloading data from https://storage.googleapis.com/tensorflow/tf-keras-datasets/mnist.npz\n",
            "11493376/11490434 [==============================] - 0s 0us/step\n",
            "WARNING:tensorflow:From /usr/local/lib/python3.6/dist-packages/tensorflow/python/ops/resource_variable_ops.py:435: colocate_with (from tensorflow.python.framework.ops) is deprecated and will be removed in a future version.\n",
            "Instructions for updating:\n",
            "Colocations handled automatically by placer.\n",
            "Epoch 1/10\n",
            "60000/60000 [==============================] - 55s 910us/sample - loss: 0.1479 - acc: 0.9563\n",
            "Epoch 2/10\n",
            "60000/60000 [==============================] - 55s 909us/sample - loss: 0.0516 - acc: 0.9844\n",
            "Epoch 3/10\n",
            "60000/60000 [==============================] - 53s 888us/sample - loss: 0.0334 - acc: 0.9894\n",
            "Epoch 4/10\n",
            "60000/60000 [==============================] - 54s 894us/sample - loss: 0.0216 - acc: 0.9934\n",
            "Epoch 5/10\n",
            "60000/60000 [==============================] - 54s 896us/sample - loss: 0.0149 - acc: 0.9952\n",
            "Epoch 6/10\n",
            "60000/60000 [==============================] - 54s 899us/sample - loss: 0.0111 - acc: 0.9966\n",
            "Epoch 7/10\n",
            "60000/60000 [==============================] - 54s 893us/sample - loss: 0.0084 - acc: 0.9973\n",
            "Epoch 8/10\n",
            "59936/60000 [============================>.] - ETA: 0s - loss: 0.0056 - acc: 0.9981\n",
            "Reached 99.8% accuracy so cancelling training!\n",
            "60000/60000 [==============================] - 54s 899us/sample - loss: 0.0056 - acc: 0.9981\n"
          ],
          "name": "stdout"
        },
        {
          "output_type": "execute_result",
          "data": {
            "text/plain": [
              "<tensorflow.python.keras.callbacks.History at 0x7fa3482f6e48>"
            ]
          },
          "metadata": {
            "tags": []
          },
          "execution_count": 1
        }
      ]
    }
  ]
}