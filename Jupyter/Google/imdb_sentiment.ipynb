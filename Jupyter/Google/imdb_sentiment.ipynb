{
 "cells": [
  {
   "cell_type": "code",
   "execution_count": 1,
   "metadata": {},
   "outputs": [],
   "source": [
    "import os\n",
    "import random\n",
    "import numpy as np\n",
    "import matplotlib.pyplot as plt\n",
    "from sklearn.feature_extraction.text import TfidfVectorizer\n",
    "from sklearn.feature_selection import SelectKBest\n",
    "from sklearn.feature_selection import f_classif\n",
    "import tensorflow as tf\n",
    "from tensorflow.python.keras.preprocessing import sequence\n",
    "from tensorflow.python.keras.preprocessing import text\n",
    "from tensorflow.python.keras import models\n",
    "from tensorflow.python.keras.layers import Dense\n",
    "from tensorflow.python.keras.layers import Dropout\n",
    "from tensorflow.python.keras import models\n",
    "from tensorflow.python.keras import initializers\n",
    "from tensorflow.python.keras import regularizers\n",
    "from tensorflow.python.keras.layers import Embedding\n",
    "from tensorflow.python.keras.layers import SeparableConv1D\n",
    "from tensorflow.python.keras.layers import MaxPooling1D\n",
    "from tensorflow.python.keras.layers import GlobalAveragePooling1D"
   ]
  },
  {
   "cell_type": "code",
   "execution_count": 2,
   "metadata": {},
   "outputs": [],
   "source": [
    "def load_imdb_sentiment_analysis_dataset(data_path, seed=234):\n",
    "    \"\"\"Loads the IMDb movie reviews sentiment analysis dataset.\n",
    "\n",
    "    # Arguments\n",
    "        data_path: string, path to the data directory.\n",
    "        seed: int, seed for randomizer.\n",
    "\n",
    "    # Returns\n",
    "        A tuple of training and validation data.\n",
    "        Number of training samples: 25000\n",
    "        Number of test samples: 25000\n",
    "        Number of categories: 2 (0 - negative, 1 - positive)\n",
    "\n",
    "    # References\n",
    "        Mass et al., http://www.aclweb.org/anthology/P11-1015\n",
    "\n",
    "        Download and uncompress archive from:\n",
    "        http://ai.stanford.edu/~amaas/data/sentiment/aclImdb_v1.tar.gz\n",
    "    \"\"\"\n",
    "    imdb_data_path = os.path.join(data_path, 'aclImdb')\n",
    "\n",
    "    # Load the training data\n",
    "    train_texts = []\n",
    "    train_labels = []\n",
    "    for category in ['pos', 'neg']:\n",
    "        train_path = os.path.join(imdb_data_path, 'train', category)\n",
    "        for fname in sorted(os.listdir(train_path)):\n",
    "            if fname.endswith('.txt'):\n",
    "                with open(os.path.join(train_path, fname), encoding='utf-8') as f:\n",
    "                    train_texts.append(f.read())\n",
    "                train_labels.append(0 if category == 'neg' else 1)\n",
    "\n",
    "    # Load the validation data.\n",
    "    test_texts = []\n",
    "    test_labels = []\n",
    "    for category in ['pos', 'neg']:\n",
    "        test_path = os.path.join(imdb_data_path, 'test', category)\n",
    "        for fname in sorted(os.listdir(test_path)):\n",
    "            if fname.endswith('.txt'):\n",
    "                with open(os.path.join(test_path, fname), encoding='utf-8') as f:\n",
    "                    test_texts.append(f.read())\n",
    "                test_labels.append(0 if category == 'neg' else 1)\n",
    "\n",
    "    # Shuffle the training data and labels.\n",
    "    random.seed(seed)\n",
    "    random.shuffle(train_texts)\n",
    "    random.seed(seed)\n",
    "    random.shuffle(train_labels)\n",
    "\n",
    "    return ((train_texts, np.array(train_labels)),\n",
    "            (test_texts, np.array(test_labels)))"
   ]
  },
  {
   "cell_type": "markdown",
   "metadata": {},
   "source": [
    "# Load data:"
   ]
  },
  {
   "cell_type": "code",
   "execution_count": 3,
   "metadata": {},
   "outputs": [],
   "source": [
    "((train_texts, train_labels), (test_texts, test_labels)) = load_imdb_sentiment_analysis_dataset(\"C:\\\\03.Data\")"
   ]
  },
  {
   "cell_type": "markdown",
   "metadata": {},
   "source": [
    "# Inspecting data:"
   ]
  },
  {
   "cell_type": "code",
   "execution_count": 5,
   "metadata": {},
   "outputs": [
    {
     "name": "stdout",
     "output_type": "stream",
     "text": [
      "(25000,)\n",
      "[0 1]\n",
      "[0 1]\n",
      "This is one of my favorite family movies. Loved it when I was little and it still holds up with me now that I'm older. I still laugh at all the same old jokes and might even shed a tear a times. I never have much cared for animals talking, or at least UN-animated ones but this one I'll stand up for. It's a pretty old movie but it will always hold a place in my heart.<br /><br />There aren't any other live animal movies that I can think of at the moment that I even could compare with, let alone like as much as this one. I might be giving too much praise to this movie but I don't think show. I really holds that great message that\" Home is where the heart is.\" Or at least that's the message I gained from it. Definitely recommended for a good old family movie night.\n",
      "1\n",
      "I found this on the shelf while housesitting and bored. How can people possibly give this a 10? It's not just that it's supposed to be a feel-good redemption film (I think), because it doesn't work on that level either. Weak plot, bad dialogue, terrible acting; there's just nothing there. Harvey Keitel is decent, but has nothing to work with, and Bridget Fonda and especially Johnathon Schaech are just terrible. The plot progression (especially the relationship between Byron and Ashley) makes no sense. It seems like the writers wanted the plot to go a certain way and made it, without actually writing in the necessary bits to make it flow. It's only an hour and a half, but that's 90 minutes of your life you'll never get back.\n",
      "0\n"
     ]
    }
   ],
   "source": [
    "print(train_labels.shape)\n",
    "print(np.unique(train_labels))\n",
    "print(np.unique(test_labels))\n",
    "print(train_texts[10])\n",
    "print(train_labels[10])\n",
    "print(train_texts[1111])\n",
    "print(train_labels[1111])"
   ]
  },
  {
   "cell_type": "code",
   "execution_count": 6,
   "metadata": {},
   "outputs": [
    {
     "data": {
      "image/png": "[encoded data removed]",
      "text/plain": [
       "<Figure size 432x288 with 1 Axes>"
      ]
     },
     "metadata": {
      "needs_background": "light"
     },
     "output_type": "display_data"
    }
   ],
   "source": [
    "def get_num_words_per_sample(sample_texts):\n",
    "    \"\"\"Returns the median number of words per sample given corpus.\n",
    "\n",
    "    # Arguments\n",
    "        sample_texts: list, sample texts.\n",
    "\n",
    "    # Returns\n",
    "        int, median number of words per sample.\n",
    "    \"\"\"\n",
    "    num_words = [len(s.split()) for s in sample_texts]\n",
    "    return np.median(num_words)\n",
    "\n",
    "def plot_sample_length_distribution(sample_texts):\n",
    "    \"\"\"Plots the sample length distribution.\n",
    "\n",
    "    # Arguments\n",
    "        samples_texts: list, sample texts.\n",
    "    \"\"\"\n",
    "    plt.hist([len(s) for s in sample_texts], 50)\n",
    "    plt.xlabel('Length of a sample')\n",
    "    plt.ylabel('Number of samples')\n",
    "    plt.title('Sample length distribution')\n",
    "    plt.show()\n",
    "    \n",
    "plot_sample_length_distribution(train_texts)"
   ]
  },
  {
   "cell_type": "markdown",
   "metadata": {},
   "source": [
    "# Tokenize and normalize text, by uisng n-gram option:"
   ]
  },
  {
   "cell_type": "code",
   "execution_count": 7,
   "metadata": {},
   "outputs": [],
   "source": [
    "# Vectorization parameters\n",
    "# Range (inclusive) of n-gram sizes for tokenizing text.\n",
    "NGRAM_RANGE = (1, 2)\n",
    "\n",
    "# Limit on the number of features. We use the top 20K features.\n",
    "TOP_K = 20000\n",
    "\n",
    "# Whether text should be split into word or character n-grams.\n",
    "# One of 'word', 'char'.\n",
    "TOKEN_MODE = 'word'\n",
    "\n",
    "# Minimum document/corpus frequency below which a token will be discarded.\n",
    "MIN_DOCUMENT_FREQUENCY = 2\n",
    "\n",
    "def ngram_vectorize(train_texts, train_labels, val_texts):\n",
    "    \"\"\"Vectorizes texts as n-gram vectors.\n",
    "\n",
    "    1 text = 1 tf-idf vector the length of vocabulary of unigrams + bigrams.\n",
    "\n",
    "    # Arguments\n",
    "        train_texts: list, training text strings.\n",
    "        train_labels: np.ndarray, training labels.\n",
    "        val_texts: list, validation text strings.\n",
    "\n",
    "    # Returns\n",
    "        x_train, x_val: vectorized training and validation texts\n",
    "    \"\"\"\n",
    "    # Create keyword arguments to pass to the 'tf-idf' vectorizer.\n",
    "    kwargs = {\n",
    "            'ngram_range': NGRAM_RANGE,  # Use 1-grams + 2-grams.\n",
    "            'dtype': 'int32',\n",
    "            'strip_accents': 'unicode',\n",
    "            'decode_error': 'replace',\n",
    "            'analyzer': TOKEN_MODE,  # Split text into word tokens.\n",
    "            'min_df': MIN_DOCUMENT_FREQUENCY,\n",
    "    }\n",
    "    vectorizer = TfidfVectorizer(**kwargs)\n",
    "\n",
    "    # Learn vocabulary from training texts and vectorize training texts.\n",
    "    x_train = vectorizer.fit_transform(train_texts)\n",
    "\n",
    "    # Vectorize validation texts.\n",
    "    x_val = vectorizer.transform(val_texts)\n",
    "\n",
    "    # Select top 'k' of the vectorized features.\n",
    "    selector = SelectKBest(f_classif, k=min(TOP_K, x_train.shape[1]))\n",
    "    selector.fit(x_train, train_labels)\n",
    "    x_train = selector.transform(x_train).astype('float32')\n",
    "    x_val = selector.transform(x_val).astype('float32')\n",
    "    return x_train, x_val, vectorizer, selector"
   ]
  },
  {
   "cell_type": "code",
   "execution_count": 8,
   "metadata": {},
   "outputs": [
    {
     "name": "stderr",
     "output_type": "stream",
     "text": [
      "C:\\Users\\xiaop\\AppData\\Local\\Continuum\\anaconda3\\lib\\site-packages\\sklearn\\feature_extraction\\text.py:1616: UserWarning: Only (<class 'numpy.float64'>, <class 'numpy.float32'>, <class 'numpy.float16'>) 'dtype' should be used. int32 'dtype' will be converted to np.float64.\n",
      "  UserWarning)\n"
     ]
    }
   ],
   "source": [
    "x_trains, x_test, vectorizer, selector = ngram_vectorize(train_texts, train_labels, test_texts)\n",
    "\n",
    "trainLen = len(train_texts)\n",
    "ratio = 0.8\n",
    "\n",
    "x_train= x_trains[0: int(trainLen*ratio)]\n",
    "train_label = train_labels[0: int(trainLen*ratio)]\n",
    "x_val= x_trains[int(trainLen*ratio): trainLen]\n",
    "val_label = train_labels[int(trainLen*ratio): trainLen]"
   ]
  },
  {
   "cell_type": "markdown",
   "metadata": {},
   "source": [
    "# Inspect vectorized samples:"
   ]
  },
  {
   "cell_type": "code",
   "execution_count": 14,
   "metadata": {},
   "outputs": [
    {
     "name": "stdout",
     "output_type": "stream",
     "text": [
      "<class 'scipy.sparse.csr.csr_matrix'>\n",
      "(20000, 20000)\n",
      "  (0, 222)\t0.040014867\n",
      "  (0, 234)\t0.0320392\n",
      "  (0, 326)\t0.058605377\n",
      "  (0, 603)\t0.05341435\n",
      "  (0, 611)\t0.04135849\n",
      "  (0, 680)\t0.040576857\n",
      "  (0, 769)\t0.04888433\n",
      "  (0, 1013)\t0.03788184\n",
      "  (0, 1275)\t0.0412489\n",
      "  (0, 1492)\t0.052573945\n",
      "  (0, 1495)\t0.041906845\n",
      "  (0, 1636)\t0.033329703\n",
      "  (0, 1647)\t0.011337811\n",
      "  (0, 1722)\t0.021325056\n",
      "  (0, 1775)\t0.013066896\n",
      "  (0, 1788)\t0.02691619\n",
      "  (0, 2259)\t0.056404907\n",
      "  (0, 2263)\t0.03441264\n",
      "  (0, 2366)\t0.0436179\n",
      "  (0, 2729)\t0.0376579\n",
      "  (0, 2741)\t0.048326466\n",
      "  (0, 2757)\t0.024164308\n",
      "  (0, 3107)\t0.027695298\n",
      "  (0, 3320)\t0.09595785\n",
      "  (0, 3452)\t0.035089932\n",
      "  :\t:\n",
      "  (0, 16141)\t0.032155022\n",
      "  (0, 16152)\t0.028531682\n",
      "  (0, 16190)\t0.028467992\n",
      "  (0, 16263)\t0.026278986\n",
      "  (0, 16447)\t0.030293142\n",
      "  (0, 16553)\t0.04528116\n",
      "  (0, 16839)\t0.054779865\n",
      "  (0, 16941)\t0.0416279\n",
      "  (0, 16989)\t0.017922325\n",
      "  (0, 17166)\t0.022838412\n",
      "  (0, 17213)\t0.025983071\n",
      "  (0, 17324)\t0.03211185\n",
      "  (0, 17553)\t0.033501253\n",
      "  (0, 17878)\t0.0401723\n",
      "  (0, 17960)\t0.035996854\n",
      "  (0, 18342)\t0.03425876\n",
      "  (0, 19025)\t0.03465925\n",
      "  (0, 19077)\t0.018168522\n",
      "  (0, 19140)\t0.030293932\n",
      "  (0, 19265)\t0.0141024515\n",
      "  (0, 19438)\t0.042818114\n",
      "  (0, 19613)\t0.034625735\n",
      "  (0, 19617)\t0.023331102\n",
      "  (0, 19938)\t0.04360201\n",
      "  (0, 19943)\t0.065347515\n"
     ]
    }
   ],
   "source": [
    "print(type(x_train))\n",
    "print(x_train.shape)\n",
    "#print(x_train[0])\n",
    "print(x_train[0])"
   ]
  },
  {
   "cell_type": "markdown",
   "metadata": {},
   "source": [
    "# Another preprocessing option, convert text to sequenc model:"
   ]
  },
  {
   "cell_type": "code",
   "execution_count": 15,
   "metadata": {},
   "outputs": [],
   "source": [
    "# Vectorization parameters\n",
    "# Limit on the number of features. We use the top 20K features.\n",
    "TOP_K = 20000\n",
    "\n",
    "# Limit on the length of text sequences. Sequences longer than this\n",
    "# will be truncated.\n",
    "MAX_SEQUENCE_LENGTH = 500\n",
    "\n",
    "def sequence_vectorize(train_texts, val_texts):\n",
    "    \"\"\"Vectorizes texts as sequence vectors.\n",
    "\n",
    "    1 text = 1 sequence vector with fixed length.\n",
    "\n",
    "    # Arguments\n",
    "        train_texts: list, training text strings.\n",
    "        val_texts: list, validation text strings.\n",
    "\n",
    "    # Returns\n",
    "        x_train, x_val, word_index: vectorized training and validation\n",
    "            texts and word index dictionary.\n",
    "    \"\"\"\n",
    "    # Create vocabulary with training texts.\n",
    "    tokenizer = text.Tokenizer(num_words=TOP_K)\n",
    "    tokenizer.fit_on_texts(train_texts)\n",
    "\n",
    "    # Vectorize training and validation texts.\n",
    "    x_train = tokenizer.texts_to_sequences(train_texts)\n",
    "    x_val = tokenizer.texts_to_sequences(val_texts)\n",
    "\n",
    "    # Get max sequence length.\n",
    "    max_length = len(max(x_train, key=len))\n",
    "    if max_length > MAX_SEQUENCE_LENGTH:\n",
    "        max_length = MAX_SEQUENCE_LENGTH\n",
    "\n",
    "    # Fix sequence length to max value. Sequences shorter than the length are\n",
    "    # padded in the beginning and sequences longer are truncated\n",
    "    # at the beginning.\n",
    "    x_train = sequence.pad_sequences(x_train, maxlen=max_length)\n",
    "    x_val = sequence.pad_sequences(x_val, maxlen=max_length)\n",
    "    return x_train, x_val, tokenizer.word_index"
   ]
  },
  {
   "cell_type": "markdown",
   "metadata": {},
   "source": [
    "# determine layer type and unit number for last layer:"
   ]
  },
  {
   "cell_type": "code",
   "execution_count": 17,
   "metadata": {},
   "outputs": [],
   "source": [
    "def _get_last_layer_units_and_activation(num_classes):\n",
    "    \"\"\"Gets the # units and activation function for the last network layer.\n",
    "\n",
    "    # Arguments\n",
    "        num_classes: int, number of classes.\n",
    "\n",
    "    # Returns\n",
    "        units, activation values.\n",
    "    \"\"\"\n",
    "    if num_classes == 2:\n",
    "        activation = 'sigmoid'\n",
    "        units = 1\n",
    "    else:\n",
    "        activation = 'softmax'\n",
    "        units = num_classes\n",
    "    return units, activation"
   ]
  },
  {
   "cell_type": "markdown",
   "metadata": {},
   "source": [
    "# define  multi-layer perceptrons (MLPs) model for n-gram option:"
   ]
  },
  {
   "cell_type": "code",
   "execution_count": 18,
   "metadata": {},
   "outputs": [],
   "source": [
    "def mlp_model(layers, units, dropout_rate, input_shape, num_classes):\n",
    "    \"\"\"Creates an instance of a multi-layer perceptron model.\n",
    "\n",
    "    # Arguments\n",
    "        layers: int, number of `Dense` layers in the model.\n",
    "        units: int, output dimension of the layers.\n",
    "        dropout_rate: float, percentage of input to drop at Dropout layers.\n",
    "        input_shape: tuple, shape of input to the model.\n",
    "        num_classes: int, number of output classes.\n",
    "\n",
    "    # Returns\n",
    "        An MLP model instance.\n",
    "    \"\"\"\n",
    "    op_units, op_activation = _get_last_layer_units_and_activation(2)\n",
    "    model = models.Sequential()\n",
    "    model.add(Dropout(rate=dropout_rate, input_shape=input_shape))\n",
    "\n",
    "    for _ in range(layers-1):\n",
    "        model.add(Dense(units=units, activation='relu'))\n",
    "        model.add(Dropout(rate=dropout_rate))\n",
    "\n",
    "    model.add(Dense(units=op_units, activation=op_activation))\n",
    "    return model"
   ]
  },
  {
   "cell_type": "markdown",
   "metadata": {},
   "source": [
    "# training process for n-gram model:"
   ]
  },
  {
   "cell_type": "code",
   "execution_count": 20,
   "metadata": {},
   "outputs": [],
   "source": [
    "def train_ngram_model(learning_rate=1e-3,\n",
    "                      epochs=1000,\n",
    "                      batch_size=128,\n",
    "                      layers=2,\n",
    "                      units=32,\n",
    "                      dropout_rate=0.2):\n",
    "    \"\"\"Trains n-gram model on the given dataset.\n",
    "\n",
    "    # Arguments\n",
    "        data: tuples of training and test texts and labels.\n",
    "        learning_rate: float, learning rate for training model.\n",
    "        epochs: int, number of epochs.\n",
    "        batch_size: int, number of samples per batch.\n",
    "        layers: int, number of `Dense` layers in the model.\n",
    "        units: int, output dimension of Dense layers in the model.\n",
    "        dropout_rate: float: percentage of input to drop at Dropout layers.\n",
    "\n",
    "    # Raises\n",
    "        ValueError: If validation data has label values which were not seen\n",
    "            in the training data.\n",
    "    \"\"\"\n",
    "    \n",
    "    num_classes=2\n",
    "\n",
    "    # Create model instance.\n",
    "    model = mlp_model(layers=layers,\n",
    "                                  units=units,\n",
    "                                  dropout_rate=dropout_rate,\n",
    "                                  input_shape=x_train.shape[1:],\n",
    "                                  num_classes=2)\n",
    "\n",
    "    # Compile model with learning parameters.\n",
    "    if num_classes == 2:\n",
    "        loss = 'binary_crossentropy'\n",
    "    else:\n",
    "        loss = 'sparse_categorical_crossentropy'\n",
    "    optimizer = tf.keras.optimizers.Adam(lr=learning_rate)\n",
    "    model.compile(optimizer=optimizer, loss=loss, metrics=['acc'])\n",
    "\n",
    "    # Create callback for early stopping on validation loss. If the loss does\n",
    "    # not decrease in two consecutive tries, stop training.\n",
    "    callbacks = [tf.keras.callbacks.EarlyStopping(\n",
    "        monitor='val_loss', patience=2)]\n",
    "\n",
    "    # Train and validate model.\n",
    "    history = model.fit(\n",
    "            x_train,\n",
    "            train_label,\n",
    "            epochs=epochs,\n",
    "            callbacks=callbacks,\n",
    "            validation_data=(x_val, val_label),\n",
    "            verbose=2,  # Logs once per epoch.\n",
    "            batch_size=batch_size)\n",
    "\n",
    "    # Print results.\n",
    "    history = history.history\n",
    "    print('Validation accuracy: {acc}, loss: {loss}'.format(\n",
    "            acc=history['val_acc'][-1], loss=history['val_loss'][-1]))\n",
    "    \n",
    "    #check if model works as expected:\n",
    "    print(\"check on train data:\")\n",
    "    results = model.evaluate(x_train, train_label)\n",
    "    print(model.metrics_names)\n",
    "    print(results)\n",
    "    \n",
    "    print(\"check on val data:\")\n",
    "    results = model.evaluate(x_val, val_label)\n",
    "    print(model.metrics_names)\n",
    "    print(results)\n",
    "\n",
    "    # Save model.\n",
    "    model.save('IMDb_mlp_model.h5')\n",
    "    return model, history['val_acc'][-1], history['val_loss'][-1]"
   ]
  },
  {
   "cell_type": "code",
   "execution_count": 21,
   "metadata": {},
   "outputs": [
    {
     "name": "stdout",
     "output_type": "stream",
     "text": [
      "WARNING:tensorflow:Falling back from v2 loop because of error: Failed to find data adapter that can handle input: <class 'scipy.sparse.csr.csr_matrix'>, <class 'NoneType'>\n",
      "Train on 20000 samples, validate on 5000 samples\n",
      "Epoch 1/1000\n",
      "20000/20000 - 17s - loss: 0.5626 - acc: 0.8422 - val_loss: 0.4153 - val_acc: 0.8948\n",
      "Epoch 2/1000\n",
      "20000/20000 - 16s - loss: 0.3311 - acc: 0.8986 - val_loss: 0.2754 - val_acc: 0.9120\n",
      "Epoch 3/1000\n",
      "20000/20000 - 16s - loss: 0.2348 - acc: 0.9230 - val_loss: 0.2232 - val_acc: 0.9234\n",
      "Epoch 4/1000\n",
      "20000/20000 - 16s - loss: 0.1863 - acc: 0.9379 - val_loss: 0.1981 - val_acc: 0.9304\n",
      "Epoch 5/1000\n",
      "20000/20000 - 16s - loss: 0.1574 - acc: 0.9484 - val_loss: 0.1838 - val_acc: 0.9336\n",
      "Epoch 6/1000\n",
      "20000/20000 - 16s - loss: 0.1368 - acc: 0.9551 - val_loss: 0.1746 - val_acc: 0.9350\n",
      "Epoch 7/1000\n",
      "20000/20000 - 16s - loss: 0.1178 - acc: 0.9618 - val_loss: 0.1697 - val_acc: 0.9374\n",
      "Epoch 8/1000\n",
      "20000/20000 - 16s - loss: 0.1028 - acc: 0.9685 - val_loss: 0.1650 - val_acc: 0.9356\n",
      "Epoch 9/1000\n",
      "20000/20000 - 16s - loss: 0.0918 - acc: 0.9722 - val_loss: 0.1628 - val_acc: 0.9362\n",
      "Epoch 10/1000\n",
      "20000/20000 - 16s - loss: 0.0803 - acc: 0.9759 - val_loss: 0.1620 - val_acc: 0.9372\n",
      "Epoch 11/1000\n",
      "20000/20000 - 16s - loss: 0.0727 - acc: 0.9793 - val_loss: 0.1611 - val_acc: 0.9358\n",
      "Epoch 12/1000\n",
      "20000/20000 - 16s - loss: 0.0659 - acc: 0.9816 - val_loss: 0.1616 - val_acc: 0.9350\n",
      "Epoch 13/1000\n",
      "20000/20000 - 16s - loss: 0.0597 - acc: 0.9837 - val_loss: 0.1621 - val_acc: 0.9374\n",
      "Validation accuracy: 0.9373999834060669, loss: 0.1621284546494484\n",
      "check on train data:\n",
      "WARNING:tensorflow:Falling back from v2 loop because of error: Failed to find data adapter that can handle input: <class 'scipy.sparse.csr.csr_matrix'>, <class 'NoneType'>\n",
      "20000/20000 [==============================] - 4s 192us/sample - loss: 0.0358 - acc: 0.9955\n",
      "['loss', 'acc']\n",
      "[0.035846447660773995, 0.9955]\n",
      "check on val data:\n",
      "WARNING:tensorflow:Falling back from v2 loop because of error: Failed to find data adapter that can handle input: <class 'scipy.sparse.csr.csr_matrix'>, <class 'NoneType'>\n",
      "5000/5000 [==============================] - 1s 228us/sample - loss: 0.1621 - acc: 0.9374\n",
      "['loss', 'acc']\n",
      "[0.1621284542441368, 0.9374]\n"
     ]
    }
   ],
   "source": [
    "imdbModel, _, _ = train_ngram_model()"
   ]
  },
  {
   "cell_type": "markdown",
   "metadata": {},
   "source": [
    "# Evaluate the model:"
   ]
  },
  {
   "cell_type": "code",
   "execution_count": 22,
   "metadata": {},
   "outputs": [
    {
     "name": "stdout",
     "output_type": "stream",
     "text": [
      "WARNING:tensorflow:Falling back from v2 loop because of error: Failed to find data adapter that can handle input: <class 'scipy.sparse.csr.csr_matrix'>, <class 'NoneType'>\n",
      "4000/4000 [==============================] - 1s 185us/sample - loss: 0.2604 - acc: 0.9005\n",
      "['loss', 'acc']\n",
      "[0.2603893958628178, 0.9005]\n"
     ]
    }
   ],
   "source": [
    "results = imdbModel.evaluate(x_test, test_labels)\n",
    "print(imdbModel.metrics_names)\n",
    "print(results)"
   ]
  },
  {
   "cell_type": "markdown",
   "metadata": {
    "collapsed": true
   },
   "source": [
    "# Get test data, predict:"
   ]
  },
  {
   "cell_type": "code",
   "execution_count": 23,
   "metadata": {},
   "outputs": [],
   "source": [
    "testStrings = []\n",
    "testLabels = []\n",
    "    \n",
    "for category in ['pos', 'neg']:\n",
    "    test_path = os.path.join(\"C:\\\\03.Data\\\\aclImdb\", 'test', category)\n",
    "    for fname in sorted(os.listdir(test_path)):\n",
    "        if fname.endswith('.txt'):\n",
    "            with open(os.path.join(test_path, fname), encoding='utf-8') as f:\n",
    "                testStrings.append(f.read())\n",
    "            testLabels.append(0 if category == 'neg' else 1)\n",
    "            \n",
    "seedTest = 987\n",
    "random.seed(seedTest)\n",
    "random.shuffle(testStrings)\n",
    "random.seed(seedTest)\n",
    "random.shuffle(testLabels)"
   ]
  },
  {
   "cell_type": "markdown",
   "metadata": {},
   "source": [
    "# shuffle, and check some original text:"
   ]
  },
  {
   "cell_type": "code",
   "execution_count": 24,
   "metadata": {},
   "outputs": [
    {
     "name": "stdout",
     "output_type": "stream",
     "text": [
      "people, get a clue! I mean, the writers dont have one, so I would expect you to...this show is SUCH a pale imitation of the '60 show that you can laugh at it! and the sixties show is the one with the cheap special effects, and is in B&W fer Chrissakes! Yet the mood and the writing on the old show is MILES ahead of this drivel. Get HiP kids! if 98 Degrees or Brittany told you to watch it, you would! You know it! Just bypass them and tell all your friends you were 'IN' with the 'scene' BEFORE it became too cool!\n",
      "0\n",
      "I loved it. In fact, I watched it over and over and over, and I could watch it again. This movie doesn't get boring.<br /><br />The vampire concept is revolutionized in this movie. It's a job well done, great for today's generation.<br /><br />Wesley Snipes was born for this role. Stephen Dorff was an ideal vampire. Arly Jover, mmmm mmm, she can bite me any time she wants and what a sexy accent she has. Donal Logue provides great comical relief.<br /><br />This vampire movie is like no other. I can't wait for Blade 2.\n",
      "1\n"
     ]
    }
   ],
   "source": [
    "print(testStrings[114])\n",
    "print(testLabels[114])\n",
    "print(testStrings[786])\n",
    "print(testLabels[786])"
   ]
  },
  {
   "cell_type": "markdown",
   "metadata": {},
   "source": [
    "# predict:"
   ]
  },
  {
   "cell_type": "code",
   "execution_count": 25,
   "metadata": {},
   "outputs": [
    {
     "name": "stdout",
     "output_type": "stream",
     "text": [
      "WARNING:tensorflow:Falling back from v2 loop because of error: Failed to find data adapter that can handle input: <class 'scipy.sparse.csr.csr_matrix'>, <class 'NoneType'>\n",
      "This film is so bad. I mean, who commissions this stuff? And the costume designer deserves an award for making everyone look like they had just stepped out of 1983. A bloke puts a female wig on and fights....nuff said.\n",
      "real value: 0\n",
      "[[0.01965372]]\n"
     ]
    }
   ],
   "source": [
    "x_index = 1901\n",
    "\n",
    "x_test = vectorizer.transform(testStrings[x_index: x_index+1])\n",
    "x_test = selector.transform(x_test).astype('float32')\n",
    "\n",
    "x_predict = imdbModel.predict(x_test)\n",
    "\n",
    "print(testStrings[x_index])\n",
    "print(\"real value: %d\" % testLabels[x_index])\n",
    "print(x_predict)"
   ]
  },
  {
   "cell_type": "markdown",
   "metadata": {},
   "source": [
    "# real comment from internet:"
   ]
  },
  {
   "cell_type": "code",
   "execution_count": 26,
   "metadata": {},
   "outputs": [
    {
     "name": "stdout",
     "output_type": "stream",
     "text": [
      "WARNING:tensorflow:Falling back from v2 loop because of error: Failed to find data adapter that can handle input: <class 'scipy.sparse.csr.csr_matrix'>, <class 'NoneType'>\n",
      "I am very, very tied on this film. On one hand, I thought Bohemian Rhapsody tributed the story of Freddie Mercury-for the most part-judiciously, mainly due to Rami Malek's immersive performance. Trust me, if Malek wasn't in this movie, Bohemian Rhapsody would've crumbled to ashes apace with some of the biggest catastrophes of 2018. As a depiction and honory of a musical legend, I was earnestly contented to witness the results. On the other hand, I found this movie to be a pretty incoherent, potboiler mess of a product. The harshest way to submit this is, well, simply put, to say that Bohemian Rhapsody is fundamentally your average company manufactured, cop-out, strand of merchandise that was only fabricated for mainstream audiences who will unknowingly be able to eat up the same old Fast and the Furious: Family is Important blueprint that they've unconsciously seen billions of times. However, this movie is dang LUCKY that they got Malek on the project and that they AT LEAST managed to make a glaringly enthralling, two-hour, sound-explosion of a music video..\n",
      "[[0.58261466]]\n"
     ]
    }
   ],
   "source": [
    "s = \"I am very, very tied on this film. On one hand, I thought Bohemian Rhapsody tributed the story of Freddie Mercury-for the most part-judiciously, mainly due to Rami Malek's immersive performance. Trust me, if Malek wasn't in this movie, Bohemian Rhapsody would've crumbled to ashes apace with some of the biggest catastrophes of 2018. As a depiction and honory of a musical legend, I was earnestly contented to witness the results. On the other hand, I found this movie to be a pretty incoherent, potboiler mess of a product. The harshest way to submit this is, well, simply put, to say that Bohemian Rhapsody is fundamentally your average company manufactured, cop-out, strand of merchandise that was only fabricated for mainstream audiences who will unknowingly be able to eat up the same old Fast and the Furious: Family is Important blueprint that they've unconsciously seen billions of times. However, this movie is dang LUCKY that they got Malek on the project and that they AT LEAST managed to make a glaringly enthralling, two-hour, sound-explosion of a music video..\"\n",
    "\n",
    "sList = [s]\n",
    "x_real = vectorizer.transform(sList)\n",
    "x_real = selector.transform(x_real).astype('float32')\n",
    "\n",
    "x_predict = imdbModel.predict(x_real)\n",
    "\n",
    "print(s)\n",
    "print(x_predict)"
   ]
  },
  {
   "cell_type": "code",
   "execution_count": null,
   "metadata": {
    "collapsed": true
   },
   "outputs": [],
   "source": []
  }
 ],
 "metadata": {
  "kernelspec": {
   "display_name": "Python 3",
   "language": "python",
   "name": "python3"
  },
  "language_info": {
   "codemirror_mode": {
    "name": "ipython",
    "version": 3
   },
   "file_extension": ".py",
   "mimetype": "text/x-python",
   "name": "python",
   "nbconvert_exporter": "python",
   "pygments_lexer": "ipython3",
   "version": "3.7.3"
  }
 },
 "nbformat": 4,
 "nbformat_minor": 2
}
